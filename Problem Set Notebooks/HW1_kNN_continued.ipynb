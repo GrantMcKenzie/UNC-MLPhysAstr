{
 "cells": [
  {
   "cell_type": "markdown",
   "id": "30ec352e",
   "metadata": {},
   "source": [
    "### Homework 1: Further tests with kNN\n",
    "\n",
    "In this homework question, you'll use the same 18 instance planet habitability data set and study:\n",
    "- the performance of a fully 3D kNN\n",
    "- how your results change if you use different scaler options"
   ]
  },
  {
   "cell_type": "code",
   "execution_count": null,
   "id": "70003cb1",
   "metadata": {},
   "outputs": [],
   "source": [
    "# import everything you need to load the data, plot it, scale it, and run kNN"
   ]
  },
  {
   "cell_type": "code",
   "execution_count": null,
   "id": "82979d9f",
   "metadata": {},
   "outputs": [],
   "source": [
    "# load the data from HPLearningSet.csv into a data frame"
   ]
  },
  {
   "cell_type": "markdown",
   "id": "c07b196f",
   "metadata": {},
   "source": [
    "Unlike in studio, we'll use all 3 features for the kNN. Set up the data structures for the features and targets. \n",
    "As in studio, we'll use the first 13 instances for the training set and the last 5 for our test set. "
   ]
  },
  {
   "cell_type": "code",
   "execution_count": null,
   "id": "a1844b02",
   "metadata": {},
   "outputs": [],
   "source": [
    "# set up features and targets for the test and train sets"
   ]
  },
  {
   "cell_type": "markdown",
   "id": "f6f69d46",
   "metadata": {},
   "source": [
    "Begin by comparing the performance of the 3D kNN to the 2D kNN you tested in studio. For a direct comparison, scale your data with the Robust Scaler method before training the network."
   ]
  },
  {
   "cell_type": "code",
   "execution_count": null,
   "id": "bbec044a",
   "metadata": {},
   "outputs": [],
   "source": [
    "# scale the data with Robust Scaler and train your 3D kNN"
   ]
  },
  {
   "cell_type": "markdown",
   "id": "6e0afacc",
   "metadata": {},
   "source": [
    "What does the 3D kNN predict for the 5 test set instances?"
   ]
  },
  {
   "cell_type": "code",
   "execution_count": null,
   "id": "b4bfc69c",
   "metadata": {},
   "outputs": [],
   "source": [
    "# Make predictions for the 5 test set instances"
   ]
  },
  {
   "cell_type": "markdown",
   "id": "689df899",
   "metadata": {},
   "source": [
    "What is the train and test accuracy of the 3D kNN?"
   ]
  },
  {
   "cell_type": "code",
   "execution_count": null,
   "id": "4b0aa26a",
   "metadata": {},
   "outputs": [],
   "source": [
    "# evaluate the train and test accuracy of the 3D kNN"
   ]
  },
  {
   "cell_type": "markdown",
   "id": "9b423623",
   "metadata": {},
   "source": [
    "How do the 3D kNN results compare to the 2D kNN results we got in studio? What does this tell you about the new features added to the 3D version (planet distance)? Can you give some physical reasoning for why this might be the case?"
   ]
  },
  {
   "cell_type": "markdown",
   "id": "eb5c990c",
   "metadata": {},
   "source": []
  },
  {
   "cell_type": "markdown",
   "id": "3de4b6d0",
   "metadata": {},
   "source": [
    "Next, we'll study the effect of different scaling options on the data set and on kNN performance. \n",
    "\n",
    "We'll compare two new options to the Robust Scaler used above:\n",
    "- MixMax Scaler\n",
    "- Standard Scaler\n",
    "\n",
    "Documentation on the scaler methods can be found here: https://scikit-learn.org/stable/auto_examples/preprocessing/plot_all_scaling.html#sphx-glr-auto-examples-preprocessing-plot-all-scaling-py\n",
    "\n"
   ]
  },
  {
   "cell_type": "markdown",
   "id": "822f7111",
   "metadata": {},
   "source": [
    "In each of the 3 feature dimensions, compare the distributions of the data after scaling with each of the three methods. \n",
    "\n",
    "To do this, make 3 plot panels, one for each feature. On each panel, plot 3 histograms, one for each scaling method. Make sure the binning you choose is consistent between the overlapping histograms, and choose binning that is fine enough to show the shape of the distribution, without being so fine that most bins have 1 or 2 events.\n",
    "\n",
    "You may need to make more than 1 version of the plots to be able to check the effects on scaling on all events (don't forget outliers!) and be able to see the details. You may also want to evaluate the mean of each scaled distribution for comparison. "
   ]
  },
  {
   "cell_type": "code",
   "execution_count": null,
   "id": "ad12d1f5",
   "metadata": {},
   "outputs": [],
   "source": [
    "# code to apply scaling and make plots"
   ]
  },
  {
   "cell_type": "markdown",
   "id": "f41fd08d",
   "metadata": {},
   "source": [
    "What are the differences between these 3 scaling methods? Make sure to address how the presence of outliers affects each of the methods."
   ]
  },
  {
   "cell_type": "markdown",
   "id": "96fdc502",
   "metadata": {},
   "source": []
  },
  {
   "cell_type": "markdown",
   "id": "642d787a",
   "metadata": {},
   "source": [
    "Train a 3D kNN with the MinMax Scaler scaled data and another 3D kNN with the Standard Scaler scaled data. Compare the results of both networks with the Robust Scaler kNN results. Compare the predictions for the 5 test instances and the test and train accuracies. Do the predictions change? Which version appears to perform best for this data set?"
   ]
  },
  {
   "cell_type": "code",
   "execution_count": null,
   "id": "2e81f5fe",
   "metadata": {},
   "outputs": [],
   "source": [
    "# Code to build networks and test performance"
   ]
  },
  {
   "cell_type": "markdown",
   "id": "7c86ec7d",
   "metadata": {},
   "source": []
  },
  {
   "cell_type": "markdown",
   "id": "f612d746",
   "metadata": {},
   "source": [
    "### Acknowledgement Statement"
   ]
  },
  {
   "cell_type": "markdown",
   "id": "e87ac72b",
   "metadata": {},
   "source": []
  }
 ],
 "metadata": {
  "language_info": {
   "name": "python"
  }
 },
 "nbformat": 4,
 "nbformat_minor": 5
}
