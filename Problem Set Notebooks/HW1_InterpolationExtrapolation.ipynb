{
 "cells": [
  {
   "cell_type": "markdown",
   "id": "5c89ed10",
   "metadata": {},
   "source": [
    "This question builds on the studio assignment you did in class on August 21 to examine some modeling pitfalls. \n",
    "We'll see examples of how both classical inference and how machine learning-based modeling can fail."
   ]
  },
  {
   "cell_type": "markdown",
   "id": "8d98d790",
   "metadata": {},
   "source": [
    "First, we'll just run the code from studio to get back to where we were."
   ]
  },
  {
   "cell_type": "code",
   "execution_count": 2,
   "id": "b6bc03fe",
   "metadata": {},
   "outputs": [
    {
     "name": "stdout",
     "output_type": "stream",
     "text": [
      "Requirement already satisfied: nbformat in /Users/jgruszko/anaconda3/envs/PHYS448/lib/python3.13/site-packages (5.10.4)\n",
      "Requirement already satisfied: fastjsonschema>=2.15 in /Users/jgruszko/anaconda3/envs/PHYS448/lib/python3.13/site-packages (from nbformat) (2.21.2)\n",
      "Requirement already satisfied: jsonschema>=2.6 in /Users/jgruszko/anaconda3/envs/PHYS448/lib/python3.13/site-packages (from nbformat) (4.25.1)\n",
      "Requirement already satisfied: jupyter-core!=5.0.*,>=4.12 in /Users/jgruszko/anaconda3/envs/PHYS448/lib/python3.13/site-packages (from nbformat) (5.8.1)\n",
      "Requirement already satisfied: traitlets>=5.1 in /Users/jgruszko/anaconda3/envs/PHYS448/lib/python3.13/site-packages (from nbformat) (5.14.3)\n",
      "Requirement already satisfied: attrs>=22.2.0 in /Users/jgruszko/anaconda3/envs/PHYS448/lib/python3.13/site-packages (from jsonschema>=2.6->nbformat) (25.3.0)\n",
      "Requirement already satisfied: jsonschema-specifications>=2023.03.6 in /Users/jgruszko/anaconda3/envs/PHYS448/lib/python3.13/site-packages (from jsonschema>=2.6->nbformat) (2025.4.1)\n",
      "Requirement already satisfied: referencing>=0.28.4 in /Users/jgruszko/anaconda3/envs/PHYS448/lib/python3.13/site-packages (from jsonschema>=2.6->nbformat) (0.36.2)\n",
      "Requirement already satisfied: rpds-py>=0.7.1 in /Users/jgruszko/anaconda3/envs/PHYS448/lib/python3.13/site-packages (from jsonschema>=2.6->nbformat) (0.27.0)\n",
      "Requirement already satisfied: platformdirs>=2.5 in /Users/jgruszko/anaconda3/envs/PHYS448/lib/python3.13/site-packages (from jupyter-core!=5.0.*,>=4.12->nbformat) (4.3.8)\n"
     ]
    }
   ],
   "source": [
    "#We'll need to install the nbformat package to run one notebook from another\n",
    "!pip install nbformat"
   ]
  },
  {
   "cell_type": "code",
   "execution_count": null,
   "id": "5481b698",
   "metadata": {},
   "outputs": [],
   "source": [
    "#Run your completed studio notebook by updating the path below and executing this cell. Then you'll have access to all the results and variables from that notebook. \n",
    "%run /path/to/your/studio1_notebook.ipynb"
   ]
  },
  {
   "cell_type": "markdown",
   "id": "9a0fda46",
   "metadata": {},
   "source": [
    "#### Interpolation and extrapolation:\n",
    "\n",
    "Often, the reason we build a model is to predict something about the world. Two examples of this application are interpolation and extrapolation. \n",
    "\n",
    "Interpolation is when we predict values for a new point that lies inside the range represented by the data.\n",
    "\n",
    "In extrapolation, we predict values for a point outside the range of our data. \n",
    "In general, extrapolation is much more \"dangerous\" than interpolation, and gets more risky the further you go from your initial data range. \n",
    "\n",
    "In general, the more parameters your model has, the more risk there is of ``over-fitting\": matching every data point well in your initial training/fitting sample, but being very incorrect about new data. This is a risk in both classical inference and ML.\n",
    "\n",
    "Let's see what this looks like. \n"
   ]
  },
  {
   "cell_type": "markdown",
   "id": "b02be27f",
   "metadata": {},
   "source": [
    "First, try interpolating and extrapolating using the \"correct\" model, which we developed from our understanding of the physics underlying our data. Test how the linear models perform on four points: t= 2.5s, t = 12s, t = 20s, and t = 40s. Check the percent error/disagreement between the two linear models at each point. "
   ]
  },
  {
   "cell_type": "code",
   "execution_count": 7,
   "id": "2c4aaa31",
   "metadata": {},
   "outputs": [],
   "source": [
    "#Your code here: check what the traditional inference linear models predict at t={2.5, 12, 20}s. Give the percent error between the models with and without taking uncertainty into account. "
   ]
  },
  {
   "cell_type": "markdown",
   "id": "87f01446",
   "metadata": {},
   "source": [
    "Comment on what you found: how big do the errors get? What trend(s) do you observe?"
   ]
  },
  {
   "cell_type": "markdown",
   "id": "b7b630c2",
   "metadata": {},
   "source": []
  },
  {
   "cell_type": "markdown",
   "id": "bbb95e4f",
   "metadata": {},
   "source": [
    "### Model error and extrapolation\n",
    "Extrapolation can be really dangerous, though, when we have the wrong model. Imagine we didn't have a physical model for this data, or we somehow had the wrong model; let's see what happens. We'll try two incorrect models: a quadratic polynomial and a cubic polynomial.\n",
    "This time, instead of fitting \"by hand\" with a grid search, we'll use scipy's curve_fit method. To use it, we'll need to import the package and define our fit functions. \n",
    "\n",
    "The two functions we'll test are:\n",
    "$$ f(x)= a+bx+cx^2 $$\n",
    "\n",
    "$$ g(x)= a+bx+cx^2+dx^3 $$\n",
    "\n",
    "with the fit having free parameters $a, b, c$ in both cases, and $d$ as an additional free parameter in the cubic case.\n",
    "\n",
    "\n"
   ]
  },
  {
   "cell_type": "code",
   "execution_count": 5,
   "id": "fa3e6190",
   "metadata": {},
   "outputs": [],
   "source": [
    "from scipy.optimize import curve_fit"
   ]
  },
  {
   "cell_type": "code",
   "execution_count": null,
   "id": "ed45ff9b",
   "metadata": {},
   "outputs": [],
   "source": [
    "# Define your fitting functions here. I'll get you started\n",
    "def quad(x, a, b, c):\n",
    "    return #your code here\n",
    "\n",
    "#your cubic function definition here"
   ]
  },
  {
   "cell_type": "markdown",
   "id": "93141e4b",
   "metadata": {},
   "source": [
    "Take a look at the scipy $\\texttt{curve\\_fit}$ method documentation (https://docs.scipy.org/doc/scipy/reference/generated/scipy.optimize.curve_fit.html) to see how to run the fit and return the parameters. Run a fit over the original data set of 10 points for each of the two new functions. \n",
    "\n",
    "\n",
    "Once you have the parameters, use them to find the mean squared error for that original data set. \n",
    "\n",
    "Hint: numpy's $\\texttt{mean}$ function will probably be useful here."
   ]
  },
  {
   "cell_type": "code",
   "execution_count": null,
   "id": "accc4165",
   "metadata": {},
   "outputs": [],
   "source": [
    "#Run fits for the quadratic and cubic functions, return and store the parameters for each."
   ]
  },
  {
   "cell_type": "code",
   "execution_count": null,
   "id": "2a8a957b",
   "metadata": {},
   "outputs": [],
   "source": [
    "#Using the stored parameters, find the mean squared error for the two new models, and compare them to the mean squared error of the linear fit (the one that did not use the uncertainties). "
   ]
  },
  {
   "cell_type": "markdown",
   "id": "b2232cc0",
   "metadata": {},
   "source": [
    "Give the MSE for each model. Simply based on the mean squared errors, which model appears to perform the best?"
   ]
  },
  {
   "cell_type": "markdown",
   "id": "a7e39e11",
   "metadata": {},
   "source": []
  },
  {
   "cell_type": "markdown",
   "id": "4c998175",
   "metadata": {},
   "source": [
    "Let's plot the results of our fits in the range where the fit was done. To do this, we'll need to evaluate at some more points."
   ]
  },
  {
   "cell_type": "code",
   "execution_count": null,
   "id": "f78e267a",
   "metadata": {},
   "outputs": [],
   "source": [
    "xs = np.linspace(0, 10, 1000) #make 1000 points between 0 and 10\n",
    "ys = bestb + bestm*xs #linear fit y values\n",
    "ys_quad = #your code here\n",
    "ys_cubic = #your code here"
   ]
  },
  {
   "cell_type": "code",
   "execution_count": 19,
   "id": "ec245135",
   "metadata": {},
   "outputs": [
    {
     "data": {
      "image/png": "[encoded data removed]",
      "text/plain": [
       "<Figure size 800x600 with 1 Axes>"
      ]
     },
     "metadata": {},
     "output_type": "display_data"
    }
   ],
   "source": [
    "plt.figure(figsize=(8,6))\n",
    "\n",
    "plt.scatter(x,y, marker = 'o', c = 'red')\n",
    "\n",
    "plt.plot(xs, ys, c = 'black', label = 'Linear Fit')\n",
    "\n",
    "plt.plot(xs, ys_quad, c = 'blue', label = 'Quadratic fit')\n",
    "#plt.plot(xval, y_quad_extravals, c = 'green', marker = \"+\", linestyle = ' ')\n",
    "\n",
    "plt.plot(xs, ys_cubic, c = 'red', label = 'Cubic fit')\n",
    "#plt.plot(xval, y_cubic_extravals, c = 'red', marker = \"+\", linestyle = ' ')\n",
    "\n",
    "plt.xlabel('time (s)')\n",
    "\n",
    "plt.ylabel('distance (m)')\n",
    "\n",
    "plt.legend();"
   ]
  },
  {
   "cell_type": "markdown",
   "id": "4672bc8f",
   "metadata": {},
   "source": [
    "Now, let's try interpolating and extrapolating with the quadratic and cubic models. Evalaute them at the same four points as before: t= 2.5s, t = 12s, t = 20s, and t = 40s. Check the percent error/disagreement between each of the new models and the linear model without uncertainty at each point. "
   ]
  },
  {
   "cell_type": "code",
   "execution_count": null,
   "id": "60f7f68c",
   "metadata": {},
   "outputs": [],
   "source": [
    "#Evaluate the quadratic and cubic models you fit above at the four test points"
   ]
  },
  {
   "cell_type": "code",
   "execution_count": 23,
   "id": "265e85bf",
   "metadata": {},
   "outputs": [],
   "source": [
    "#Find the percent error for each of the 4 test points in the quadratic and cubic models, relative to the linear model without uncertainty"
   ]
  },
  {
   "cell_type": "markdown",
   "id": "de19e74f",
   "metadata": {},
   "source": [
    "Comment on what you found: how big do the errors get? What trend(s) do you observe? Give at least two observations. \n"
   ]
  },
  {
   "cell_type": "markdown",
   "id": "8e19d3e6",
   "metadata": {},
   "source": []
  },
  {
   "cell_type": "markdown",
   "id": "f1c0830e",
   "metadata": {},
   "source": [
    "Plot your results in a window including the broader extrapolation range, from t = 0 to ~50. Plot the linear models without uncertainties for comparison."
   ]
  },
  {
   "cell_type": "code",
   "execution_count": null,
   "id": "7184e4de",
   "metadata": {},
   "outputs": [],
   "source": [
    "# Code to make the new plot."
   ]
  },
  {
   "cell_type": "markdown",
   "id": "cf2024fe",
   "metadata": {},
   "source": [
    "It's often stated as a general \"rule\" that you should never extrapolate based on a polynomial fit. What do you think of this guideline? Explain your reasoning. "
   ]
  },
  {
   "cell_type": "markdown",
   "id": "6ba063f2",
   "metadata": {},
   "source": []
  },
  {
   "cell_type": "markdown",
   "id": "87b2841b",
   "metadata": {},
   "source": [
    "### Interpolating and Extrapolating with Machine Learning\n",
    "Finally, we'll check how the two ML models we trained in studio, the Decision Tree Regression and Linear Regression models, perform in interpolation and extrapolation. Test both models at the same 4 points: t= 2.5s, t = 12s, t = 20s, and t = 40s. Check the percent error/disagreement between each of the ML models and the linear model without uncertainty at each point. "
   ]
  },
  {
   "cell_type": "code",
   "execution_count": null,
   "id": "17fc9370",
   "metadata": {},
   "outputs": [],
   "source": [
    "#Using the models you trained in the studio notebook, evaluate the model predictions for the 4 interpolation and extrapolation test points. You may want to go back to the studio notebook to remind yourself how to use the predict function."
   ]
  },
  {
   "cell_type": "code",
   "execution_count": 29,
   "id": "7a66f8b4",
   "metadata": {},
   "outputs": [],
   "source": [
    "#Find the percent error for each of the 4 test points in the two ML models, relative to the linear model without uncertainty"
   ]
  },
  {
   "cell_type": "markdown",
   "id": "b4fd9a6a",
   "metadata": {},
   "source": [
    "Comment on what you found: how big do the errors get? What trend(s) do you observe, if any? "
   ]
  },
  {
   "cell_type": "markdown",
   "id": "490ffda1",
   "metadata": {},
   "source": []
  },
  {
   "cell_type": "markdown",
   "id": "2f63c33a",
   "metadata": {},
   "source": [
    "Using your trained ML models, draw a plot of their behavior in the broader range, t = 0 to ~50. Plot the linear model without uncertainty for comparison. You'll need to make more predictions to have enough points for a nice-looking plot."
   ]
  },
  {
   "cell_type": "code",
   "execution_count": 31,
   "id": "4f057bb3",
   "metadata": {},
   "outputs": [],
   "source": [
    "#Code to make more predictions and plot the results."
   ]
  },
  {
   "cell_type": "markdown",
   "id": "d7868483",
   "metadata": {},
   "source": [
    "Now that you've made the plot, you may have a better idea of what's happening when we try to extrapolate from the ML models. What do you observe about the behavior of each model when it's applied to points with feature values outside the training domaain?"
   ]
  },
  {
   "cell_type": "markdown",
   "id": "a3de2d7f",
   "metadata": {},
   "source": []
  },
  {
   "cell_type": "markdown",
   "id": "63f530fd",
   "metadata": {},
   "source": [
    "In this notebook, you tested interpolation and extrapolation performance of:\n",
    "1. The \"physically motivated\" inference models (linear models)\n",
    "2. Classical inference-based models with an incorrect underlying model (quadratic and cubic polynomial models)\n",
    "3. A machine learning decision tree regression model\n",
    "4. A machine learning linear regression model\n",
    "\n",
    "\n",
    "Compare the performance in interpolation between these options. "
   ]
  },
  {
   "cell_type": "markdown",
   "id": "df621886",
   "metadata": {},
   "source": []
  },
  {
   "cell_type": "markdown",
   "id": "a533b68b",
   "metadata": {},
   "source": [
    "Compare the performance in extrapolation between these options."
   ]
  },
  {
   "cell_type": "markdown",
   "id": "644667d0",
   "metadata": {},
   "source": []
  },
  {
   "cell_type": "markdown",
   "id": "6d5e7029",
   "metadata": {},
   "source": [
    "What does this tell us about the overall strengths and weaknesses of these methods, and when we may want to use them?"
   ]
  },
  {
   "cell_type": "markdown",
   "id": "d1470136",
   "metadata": {},
   "source": []
  }
 ],
 "metadata": {
  "kernelspec": {
   "display_name": "PHYS448",
   "language": "python",
   "name": "python3"
  },
  "language_info": {
   "codemirror_mode": {
    "name": "ipython",
    "version": 3
   },
   "file_extension": ".py",
   "mimetype": "text/x-python",
   "name": "python",
   "nbconvert_exporter": "python",
   "pygments_lexer": "ipython3",
   "version": "3.13.5"
  }
 },
 "nbformat": 4,
 "nbformat_minor": 5
}
