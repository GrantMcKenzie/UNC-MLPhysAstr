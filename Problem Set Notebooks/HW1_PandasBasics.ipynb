{
 "cells": [
  {
   "cell_type": "markdown",
   "id": "980ee365",
   "metadata": {},
   "source": [
    "### Practice with data in pandas\n",
    "\n",
    "We'll often load data using pandas, a library that provides data manipulation and analysis tools. It also makes it very easy to work with .csv files without having to mess around with python string methods. \n",
    "\n",
    "In this exercise, you'll use pandas to open a spreadsheet with information about the class roster, take a look at the information already listed, and add some more info to it. "
   ]
  },
  {
   "cell_type": "markdown",
   "id": "9a1298f8",
   "metadata": {},
   "source": [
    "Make sure you get the most up-to-date version of the spreadsheet by running a \"git pull,\" as shown in Studio 2, to get the newest version from the repository before starting work. You'll be updating that version yourself as part of this notebook. \n",
    "\n"
   ]
  },
  {
   "cell_type": "markdown",
   "id": "4de4a140",
   "metadata": {},
   "source": [
    "First, let's try peeking at the first few lines of the file with built-in python methods, just to see what we have."
   ]
  },
  {
   "cell_type": "code",
   "execution_count": null,
   "id": "b62bd476",
   "metadata": {},
   "outputs": [],
   "source": [
    "file = open('../Data/class_list.csv')\n",
    "file.readlines()[0:3]"
   ]
  },
  {
   "cell_type": "markdown",
   "id": "5463c299",
   "metadata": {},
   "source": [
    "You should see that the first line is a comment (indicated by the # symbol) telling us the contents of each column, the second line is the column titles, and the 3rd line is the first instance.\n",
    "\n",
    "Pandas is very good at parsing csv files and gettign them into memory. The fundamental way pandas handles data is as a $\\textbf{data frame}$, which is basically a table. The columns are the values stored for each entry, and the rows are the instances/data entries. Columns can have different types.\n",
    "\n",
    "Here, we'll use an optional extra argument to tell pandas that lines that start with a '#' are a comment; it'll skip adding them to the data frame. That way we can use comment lines to include extra information in our data files. "
   ]
  },
  {
   "cell_type": "code",
   "execution_count": null,
   "id": "62ecb0ee",
   "metadata": {},
   "outputs": [],
   "source": [
    "import pandas as pd"
   ]
  },
  {
   "cell_type": "code",
   "execution_count": null,
   "id": "750f6ae8",
   "metadata": {},
   "outputs": [],
   "source": [
    "classlist = pd.read_csv('../Data/class_list.csv', comment='#')"
   ]
  },
  {
   "cell_type": "markdown",
   "id": "1f2a7f8e",
   "metadata": {},
   "source": [
    "We can see the data frame like this:"
   ]
  },
  {
   "cell_type": "code",
   "execution_count": null,
   "id": "755ded29",
   "metadata": {},
   "outputs": [],
   "source": [
    "display(classlist)"
   ]
  },
  {
   "cell_type": "markdown",
   "id": "9cc34de6",
   "metadata": {},
   "source": [
    "If the data set has gotten long, it can be useful to look just at the head or tail of it:"
   ]
  },
  {
   "cell_type": "code",
   "execution_count": null,
   "id": "a98d32af",
   "metadata": {},
   "outputs": [],
   "source": [
    "classlist.head()"
   ]
  },
  {
   "cell_type": "markdown",
   "id": "e758971f",
   "metadata": {},
   "source": [
    "You can see more about the dataframe with the info attribute, especially if you set verbose to \"True.\""
   ]
  },
  {
   "cell_type": "code",
   "execution_count": null,
   "id": "0af3f023",
   "metadata": {},
   "outputs": [],
   "source": [
    "classlist.info(verbose = True)"
   ]
  },
  {
   "cell_type": "markdown",
   "id": "f73f6d9b",
   "metadata": {},
   "source": [
    "Are there any null values in our class list dataframe?"
   ]
  },
  {
   "cell_type": "markdown",
   "id": "2c7063b6",
   "metadata": {},
   "source": []
  },
  {
   "cell_type": "markdown",
   "id": "7b5c55eb",
   "metadata": {},
   "source": [
    "You can see the documentation for the dataframe here: https://pandas.pydata.org/docs/reference/frame.html\n",
    "\n",
    "Like in numpy, the shape of the dataframe is one of its attributes. As always, we access attributes by name with this syntax:"
   ]
  },
  {
   "cell_type": "code",
   "execution_count": null,
   "id": "d50b3401",
   "metadata": {},
   "outputs": [],
   "source": [
    "classlist.shape"
   ]
  },
  {
   "cell_type": "markdown",
   "id": "166bae64",
   "metadata": {},
   "source": [
    "Be careful though! The size attribute has something different in it. Can you figure out (using the documentation and by taking a look at it), what it is?"
   ]
  },
  {
   "cell_type": "markdown",
   "id": "7ee1f125",
   "metadata": {},
   "source": []
  },
  {
   "cell_type": "markdown",
   "id": "2568a462",
   "metadata": {},
   "source": [
    "There are many other useful attributes. Two of these that we'll look at return types that are specific to pandas: \n",
    "- the $\\texttt{index}$ attribute stores the index start, stop, and step size of the rows in the table. The return type here is RangeIndex (https://pandas.pydata.org/docs/reference/api/pandas.RangeIndex.html), which has $\\texttt{start}$, $\\texttt{stop}$, and $\\texttt{step}$ attributes of its own.\n",
    "- the $\\texttt{columns}$ attribute stores the list of all the column names, as return type Index (https://pandas.pydata.org/docs/reference/api/pandas.Index.html), which is an ordered list. You can access the values as a numpy array as shown, or use brackets to get a single value, as usual."
   ]
  },
  {
   "cell_type": "code",
   "execution_count": null,
   "id": "a87be700",
   "metadata": {},
   "outputs": [],
   "source": [
    "indexes = classlist.index\n",
    "print(indexes)\n",
    "cols = classlist.columns\n",
    "print(cols)\n",
    "print(cols.array)\n",
    "print(cols[1]) #print the column name of the 1st column (0 indexing used as usual, of course)\n",
    "print(cols[1:3]) #print the column names of the 1st through 3rd columns (inclusive of the first index, up to but not including the second index, again as usual)\n"
   ]
  },
  {
   "cell_type": "markdown",
   "id": "c81d73ae",
   "metadata": {},
   "source": [
    "We'll often select a subset of the instances (e.g. for a training set), which you can do by selecting by index:"
   ]
  },
  {
   "cell_type": "code",
   "execution_count": null,
   "id": "cfcff719",
   "metadata": {},
   "outputs": [],
   "source": [
    "classlist.iloc[0] #select all the columns for a single instance\n",
    "classlist.iloc[0:3] #select all the columns for the first 3 instances\n",
    "classlist.iloc[0:3, 0] # select the first column for the first 3 instances"
   ]
  },
  {
   "cell_type": "markdown",
   "id": "eab5358e",
   "metadata": {},
   "source": [
    "We'll also often drop a column entirely (e.g. when a column isn't a feature or a label). We can use this with the convenient \"drop\" function. "
   ]
  },
  {
   "cell_type": "code",
   "execution_count": null,
   "id": "d15f9317",
   "metadata": {},
   "outputs": [],
   "source": [
    "classlist2 = classlist.drop(\"Contact_Info\", axis=1) #drop a column by label. The \"axis = 1\" tells the drop that we're dropping a column, not a row\n",
    "classlist2"
   ]
  },
  {
   "cell_type": "markdown",
   "id": "c7333943",
   "metadata": {},
   "source": [
    "We can see a summary of the values contained in numerical columns like this:"
   ]
  },
  {
   "cell_type": "code",
   "execution_count": null,
   "id": "1d14d3d1",
   "metadata": {},
   "outputs": [],
   "source": [
    "classlist.describe()"
   ]
  },
  {
   "cell_type": "markdown",
   "id": "099015b6",
   "metadata": {},
   "source": [
    "We can select values from a single column with a few different methods, shown here."
   ]
  },
  {
   "cell_type": "code",
   "execution_count": null,
   "id": "5cc1f464",
   "metadata": {},
   "outputs": [],
   "source": [
    "classlist['Name']"
   ]
  },
  {
   "cell_type": "code",
   "execution_count": null,
   "id": "3b5d1ce5",
   "metadata": {},
   "outputs": [],
   "source": [
    "classlist.Name"
   ]
  },
  {
   "cell_type": "markdown",
   "id": "c2815334",
   "metadata": {},
   "source": [
    "Using this method, plot a histogram of the values found in the \"favorite number\" column. You'll need to import matplotlib and matplotlib.pyplot to use its histogramming tools. Don't forget to add axis labels!"
   ]
  },
  {
   "cell_type": "code",
   "execution_count": null,
   "id": "a3252882",
   "metadata": {},
   "outputs": [],
   "source": [
    "# Your histogram code here"
   ]
  },
  {
   "cell_type": "markdown",
   "id": "2c4dbfc4",
   "metadata": {},
   "source": [
    "We can filter our dataframe by the value of the columns. For example:"
   ]
  },
  {
   "cell_type": "code",
   "execution_count": null,
   "id": "d65a1c54",
   "metadata": {},
   "outputs": [],
   "source": [
    "classlist[classlist['In_448']] #If we have a boolean column, we can just use the column context as the filter"
   ]
  },
  {
   "cell_type": "code",
   "execution_count": null,
   "id": "0e406e3c",
   "metadata": {},
   "outputs": [],
   "source": [
    "classlist[classlist['Favorite_Num']<20] #For a numerical value, we can compare to some other value and get a boolean, which can then be used as a filter. "
   ]
  },
  {
   "cell_type": "markdown",
   "id": "8620a766",
   "metadata": {},
   "source": [
    "Using the filtering approach shown above, remake your histogram just for people who are actually in PHYS 448."
   ]
  },
  {
   "cell_type": "code",
   "execution_count": null,
   "id": "0b58e411",
   "metadata": {},
   "outputs": [],
   "source": [
    "# Plotting code here"
   ]
  },
  {
   "cell_type": "markdown",
   "id": "10c28161",
   "metadata": {},
   "source": [
    "Take a look at the pandas documentation and try at least one new thing with the dataframe that isn't demonstrated above, and explain what you did."
   ]
  },
  {
   "cell_type": "code",
   "execution_count": null,
   "id": "78a8fee7",
   "metadata": {},
   "outputs": [],
   "source": [
    "# code to try something new"
   ]
  },
  {
   "cell_type": "markdown",
   "id": "7e046eca",
   "metadata": {},
   "source": [
    "Your explanation:"
   ]
  },
  {
   "cell_type": "markdown",
   "id": "13d92d60",
   "metadata": {},
   "source": []
  },
  {
   "cell_type": "markdown",
   "id": "44f91cfb",
   "metadata": {},
   "source": [
    "Finally, we'll add a new instance to the table. \n",
    "\n",
    "There are two ways to add a row: you can add a single row directly at a location (the index after the $\\texttt{stop}$ index, to add it to the end), or you can build a new dataframe with the same columns, and concatenate the two. The second of these is more generally useful, so we'll use that. \n",
    "\n",
    "Fill in the fields below with your own information to add yourself to the table. All of the students in the class will see this, so only add info you want to share. To make this table useful, please enter your preferred contact mode and contact info for future work on your group project. If you want to leave a field blank, you can enter \"NA\" or \"NaN\" and pandas will recongize it. \n",
    "\n",
    "Feel free to add an extra fake person - keep it workplace-appropriate! With Git, I can see exactly who added each line ;)"
   ]
  },
  {
   "cell_type": "code",
   "execution_count": null,
   "id": "007b01ac",
   "metadata": {},
   "outputs": [],
   "source": [
    "new_row = {'Name': 'myname', 'In_448': True, 'Favorite_Num': mynum, 'Contact_Mode': 'mymode', 'Contact_Info': 'myinfo'} # fill in the columns to add yourself. If you want to add an extra fake person, you can make these fields arrays (e.g. 'Name': [name1, name2]) instead of single values.\n",
    "\n",
    "new_row_df = pd.DataFrame([new_row])\n",
    "\n",
    "classlist = pd.concat([classlist, new_row_df], ignore_index=True)"
   ]
  },
  {
   "cell_type": "markdown",
   "id": "7a879b57",
   "metadata": {},
   "source": [
    "Take a look at the result:"
   ]
  },
  {
   "cell_type": "code",
   "execution_count": null,
   "id": "8b5e9c4c",
   "metadata": {},
   "outputs": [],
   "source": [
    "classlist"
   ]
  },
  {
   "cell_type": "markdown",
   "id": "a8694eb0",
   "metadata": {},
   "source": [
    "Once you've modified the class list, commit the changes to the class_list.csv file (but not the changes to any other files!). Then in studio, I'll show you how these new commits are pushed to the remote version of the repository. \n",
    "\n",
    "\n",
    "Step by step instructions:\n",
    "- Open the \"source control\" tab in the activities file and then open the \"changes\" drop-down section.\n",
    "- You should see the class_list.csv file listed as one of those that changed. There may be other changes as well, depending on where you've been saving your studio and homework notebooks!\n",
    "- Hovering over the file you want to change (class_list.csv), you should see a \"+\" appear. Click it to stage the changes. This means you're adding those changes to list of changes to be committed. Don't add/stage any other changes. \n",
    "- Click the button that says \"Commit.\" When you do this, VS Code will open a file that has details on the changes you're committing. \n",
    "- The top row of that file must contain a \"commit message\" that gives a description of what change you made. This is how everyone else working on the code can follow what you've done. Write a message in the file, then press the check box (next to the file name in the top tabs) to save and close the file. \n",
    "- Now your commit should be complete. If you have the \"Graph\" drop down open in the Source Control tab, you'll see your new commit message appear there. \n"
   ]
  },
  {
   "cell_type": "markdown",
   "id": "b32eed44",
   "metadata": {},
   "source": [
    "### Acknowledgement Statement\n",
    "(fill in if needed)"
   ]
  }
 ],
 "metadata": {
  "kernelspec": {
   "display_name": "PHYS448",
   "language": "python",
   "name": "python3"
  },
  "language_info": {
   "codemirror_mode": {
    "name": "ipython",
    "version": 3
   },
   "file_extension": ".py",
   "mimetype": "text/x-python",
   "name": "python",
   "nbconvert_exporter": "python",
   "pygments_lexer": "ipython3",
   "version": "3.13.5"
  }
 },
 "nbformat": 4,
 "nbformat_minor": 5
}
